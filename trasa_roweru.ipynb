{
 "cells": [
  {
   "cell_type": "code",
   "execution_count": 1,
   "metadata": {},
   "outputs": [],
   "source": [
    "import os\n",
    "import pandas as pd\n",
    "import datetime as dt\n",
    "\n",
    "path = os.listdir(path=\"/Users/alicj/Desktop/python/veturilo/rowery\")\n",
    "\n",
    "files = []\n",
    "\n",
    "for t in path:\n",
    "    x = dt.datetime(int(t[0:4]), int(t[4:6]), int(t[6:8]), int(t[9:11]), int(t[11:13]), int(t[13:15]))\n",
    "    files.append((x, t))\n",
    "\n",
    "files = sorted(files)\n",
    "\n"
   ]
  },
  {
   "cell_type": "code",
   "execution_count": 8,
   "metadata": {
    "scrolled": true
   },
   "outputs": [],
   "source": [
    "import json\n",
    "\n",
    "def where_is_bike(prn, bike):\n",
    "    with open('/Users/alicj/Desktop/python/veturilo/rowery/' + prn) as bicycles:\n",
    "        data = json.load(bicycles)\n",
    "        if data == []: return 'brak danych'\n",
    "        try:\n",
    "            for i in range(len(data[0]['places'])):\n",
    "                bikes = data[0]['places'][i]['bike_numbers']\n",
    "                if bikes == None: continue #brak rowerów na stacji  \n",
    "                if str(bike) in bikes: \n",
    "                    return (float(data[0]['places'][i][\"lat\"]), float(data[0]['places'][i][\"lng\"]))\n",
    "                \n",
    "            for i in range(len(data[1]['places'])):\n",
    "                bikes = data[1]['places'][i]['bike_numbers']\n",
    "                if bikes == None: continue #brak rowerów na stacji  \n",
    "                if str(bike) in bikes: \n",
    "                    return (float(data[1]['places'][i][\"lat\"]), float(data[1]['places'][i][\"lng\"]))\n",
    "                \n",
    "        except:\n",
    "            return ('Błąd nieznany w pliku {}}'.format(prn))\n",
    "    return 'w użytku'    \n",
    "        \n",
    "road = []\n",
    "\n",
    "for prn in files:\n",
    "    bike_position = where_is_bike(prn[1], 25734)\n",
    "    if bike_position in [\"w użytku\", \"brak danych\"]: continue\n",
    "    if len(road) == 0: \n",
    "        road.append(bike_position)\n",
    "        continue\n",
    "    if road[-1] == bike_position: continue\n",
    "     \n",
    "    road.append(bike_position)\n",
    "\n",
    "    \n",
    "# print(road)\n",
    "\n",
    "\n",
    "    \n",
    "\n",
    "        \n"
   ]
  },
  {
   "cell_type": "code",
   "execution_count": 9,
   "metadata": {},
   "outputs": [],
   "source": [
    "with open('/Users/alicj/Desktop/python/veturilo/rowery/20180304_000020.json') as bicycles:\n",
    "    data = json.load(bicycles)\n",
    "    \n",
    "stations = data[0][\"places\"]"
   ]
  },
  {
   "cell_type": "code",
   "execution_count": 10,
   "metadata": {},
   "outputs": [
    {
     "data": {
      "application/vnd.jupyter.widget-view+json": {
       "model_id": "ee3c65bb24214505bb90579e7b3bdc3b",
       "version_major": 2,
       "version_minor": 0
      },
      "text/plain": [
       "Map(center=[52.285914, 20.940561], controls=(ZoomControl(options=['position', 'zoom_in_text', 'zoom_in_title',…"
      ]
     },
     "metadata": {},
     "output_type": "display_data"
    }
   ],
   "source": [
    "from ipyleaflet import Map, Marker, Polyline\n",
    "\n",
    "center = (road[0][0], road[0][1])\n",
    "\n",
    "m = Map(center=center, zoom=11)\n",
    "line = Polyline(locations=[road], color=\"blue\", fill = False)\n",
    "m.add_layer(line)\n",
    "\n",
    "\n",
    "for bike in road:\n",
    "    marker = Marker(location=(bike[0], bike[1]))\n",
    "    m.add_layer(marker)\n",
    "display(m)"
   ]
  }
 ],
 "metadata": {
  "kernelspec": {
   "display_name": "Python 3",
   "language": "python",
   "name": "python3"
  },
  "language_info": {
   "codemirror_mode": {
    "name": "ipython",
    "version": 3
   },
   "file_extension": ".py",
   "mimetype": "text/x-python",
   "name": "python",
   "nbconvert_exporter": "python",
   "pygments_lexer": "ipython3",
   "version": "3.8.5"
  }
 },
 "nbformat": 4,
 "nbformat_minor": 4
}
