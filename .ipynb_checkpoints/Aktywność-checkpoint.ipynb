{
 "cells": [
  {
   "cell_type": "code",
   "execution_count": 80,
   "metadata": {},
   "outputs": [],
   "source": [
    "import json\n",
    "import os\n",
    "import pandas as pd\n",
    "import datetime as dt\n",
    "\n",
    "path = os.listdir(path=\"/Users/alicj/Desktop/python/veturilo/rowery\")\n",
    "\n",
    "files = []\n",
    "\n",
    "for name in path:\n",
    "    time = dt.datetime(int(name[0:4]), int(name[4:6]), int(name[6:8]), int(name[9:11]), int(name[11:13]), int(name[13:15]))\n",
    "    files.append((time, name))\n",
    "\n",
    "files = sorted(files)"
   ]
  },
  {
   "cell_type": "code",
   "execution_count": 81,
   "metadata": {},
   "outputs": [],
   "source": [
    "def bikes_at_station(files, station_index = 0):\n",
    "    bikes_list = []\n",
    "    for file in files:\n",
    "        with open('/Users/alicj/Desktop/python/veturilo/rowery/' + file[1]) as jsons:\n",
    "            data = json.load(jsons)\n",
    "            if data == []:\n",
    "                continue\n",
    "            bikes = data[0]['places'][station_index][\"bike_numbers\"]\n",
    "            if bikes == None: \n",
    "                bikes = \"\" #brak rowerów na stacji \n",
    "            bikes_list.append((bikes, file[0]))\n",
    "    return bikes_list\n",
    "\n",
    "station_index = 25\n",
    "bike_list = bikes_at_station(files, station_index) #indeks stacji\n",
    "\n",
    "# print(bike_list)\n",
    "def activity(bike_list):\n",
    "    counter = 0\n",
    "    rentals = []\n",
    "    for i in range(1, len(bike_list)):\n",
    "#         print(bike_list[i][0])\n",
    "        bike_numbers = bike_list[i][0].split(\",\")\n",
    "        \n",
    "        for b in bike_numbers:\n",
    "            if b not in bike_list[i - 1][0]:\n",
    "                counter += 1\n",
    "        rentals.append(counter)\n",
    "        counter = 0\n",
    "        \n",
    "    return rentals\n",
    "\n",
    "act = activity(bike_list)\n",
    "# print(len(activity(bike_list)), len(files), len(bike_list))\n",
    "\n",
    "times = [t[1] for t in bike_list]\n",
    "time_and_activity = list(zip(times[1:], act))\n",
    "# print(time_and_activity)\n"
   ]
  },
  {
   "cell_type": "code",
   "execution_count": 82,
   "metadata": {
    "scrolled": false
   },
   "outputs": [
    {
     "data": {
      "image/png": "[encoded data removed]",
      "text/plain": [
       "<Figure size 864x432 with 1 Axes>"
      ]
     },
     "metadata": {
      "needs_background": "light"
     },
     "output_type": "display_data"
    }
   ],
   "source": [
    "import matplotlib.pyplot as plt\n",
    "\n",
    "x = times[1:]\n",
    "y = act\n",
    "\n",
    "plt.figure(figsize=(12, 6))\n",
    "plt.stem(x,y)\n",
    "plt.show()"
   ]
  },
  {
   "cell_type": "markdown",
   "metadata": {},
   "source": [
    "Następnie bedziemy robic dla każdej stacji sumę aktywności w tym okresie i na mapie kolorowac rgb natężenie ruchu \n",
    "mozna zrobić wykres uśredniający piki\n",
    "podzielić na stacje które mają za mało i za dużo rowerów (0 rowerów lub full i wiecej)\n",
    "można zrobić aktywność całej sieci rowerów nie tlyko jednej stacji\n"
   ]
  },
  {
   "cell_type": "code",
   "execution_count": 83,
   "metadata": {
    "scrolled": false
   },
   "outputs": [
    {
     "data": {
      "text/html": [
       "<div>\n",
       "<style scoped>\n",
       "    .dataframe tbody tr th:only-of-type {\n",
       "        vertical-align: middle;\n",
       "    }\n",
       "\n",
       "    .dataframe tbody tr th {\n",
       "        vertical-align: top;\n",
       "    }\n",
       "\n",
       "    .dataframe thead th {\n",
       "        text-align: right;\n",
       "    }\n",
       "</style>\n",
       "<table border=\"1\" class=\"dataframe\">\n",
       "  <thead>\n",
       "    <tr style=\"text-align: right;\">\n",
       "      <th></th>\n",
       "      <th>czas</th>\n",
       "      <th>wypożyczenia</th>\n",
       "      <th>dni tygodnia</th>\n",
       "    </tr>\n",
       "  </thead>\n",
       "  <tbody>\n",
       "    <tr>\n",
       "      <th>2018-03-04 00:10:19</th>\n",
       "      <td>2018-03-04 00:10:19</td>\n",
       "      <td>0</td>\n",
       "      <td>Sunday</td>\n",
       "    </tr>\n",
       "    <tr>\n",
       "      <th>2018-03-04 00:20:25</th>\n",
       "      <td>2018-03-04 00:20:25</td>\n",
       "      <td>0</td>\n",
       "      <td>Sunday</td>\n",
       "    </tr>\n",
       "    <tr>\n",
       "      <th>2018-03-04 00:40:16</th>\n",
       "      <td>2018-03-04 00:40:16</td>\n",
       "      <td>0</td>\n",
       "      <td>Sunday</td>\n",
       "    </tr>\n",
       "    <tr>\n",
       "      <th>2018-03-04 00:50:25</th>\n",
       "      <td>2018-03-04 00:50:25</td>\n",
       "      <td>0</td>\n",
       "      <td>Sunday</td>\n",
       "    </tr>\n",
       "    <tr>\n",
       "      <th>2018-03-04 01:00:18</th>\n",
       "      <td>2018-03-04 01:00:18</td>\n",
       "      <td>0</td>\n",
       "      <td>Sunday</td>\n",
       "    </tr>\n",
       "    <tr>\n",
       "      <th>...</th>\n",
       "      <td>...</td>\n",
       "      <td>...</td>\n",
       "      <td>...</td>\n",
       "    </tr>\n",
       "    <tr>\n",
       "      <th>2018-04-02 02:20:17</th>\n",
       "      <td>2018-04-02 02:20:17</td>\n",
       "      <td>0</td>\n",
       "      <td>Monday</td>\n",
       "    </tr>\n",
       "    <tr>\n",
       "      <th>2018-04-02 02:30:17</th>\n",
       "      <td>2018-04-02 02:30:17</td>\n",
       "      <td>0</td>\n",
       "      <td>Monday</td>\n",
       "    </tr>\n",
       "    <tr>\n",
       "      <th>2018-04-02 02:40:18</th>\n",
       "      <td>2018-04-02 02:40:18</td>\n",
       "      <td>0</td>\n",
       "      <td>Monday</td>\n",
       "    </tr>\n",
       "    <tr>\n",
       "      <th>2018-04-02 02:50:20</th>\n",
       "      <td>2018-04-02 02:50:20</td>\n",
       "      <td>0</td>\n",
       "      <td>Monday</td>\n",
       "    </tr>\n",
       "    <tr>\n",
       "      <th>2018-04-02 03:00:21</th>\n",
       "      <td>2018-04-02 03:00:21</td>\n",
       "      <td>0</td>\n",
       "      <td>Monday</td>\n",
       "    </tr>\n",
       "  </tbody>\n",
       "</table>\n",
       "<p>4176 rows × 3 columns</p>\n",
       "</div>"
      ],
      "text/plain": [
       "                                   czas  wypożyczenia dni tygodnia\n",
       "2018-03-04 00:10:19 2018-03-04 00:10:19             0       Sunday\n",
       "2018-03-04 00:20:25 2018-03-04 00:20:25             0       Sunday\n",
       "2018-03-04 00:40:16 2018-03-04 00:40:16             0       Sunday\n",
       "2018-03-04 00:50:25 2018-03-04 00:50:25             0       Sunday\n",
       "2018-03-04 01:00:18 2018-03-04 01:00:18             0       Sunday\n",
       "...                                 ...           ...          ...\n",
       "2018-04-02 02:20:17 2018-04-02 02:20:17             0       Monday\n",
       "2018-04-02 02:30:17 2018-04-02 02:30:17             0       Monday\n",
       "2018-04-02 02:40:18 2018-04-02 02:40:18             0       Monday\n",
       "2018-04-02 02:50:20 2018-04-02 02:50:20             0       Monday\n",
       "2018-04-02 03:00:21 2018-04-02 03:00:21             0       Monday\n",
       "\n",
       "[4176 rows x 3 columns]"
      ]
     },
     "execution_count": 83,
     "metadata": {},
     "output_type": "execute_result"
    }
   ],
   "source": [
    "week_station_activity = pd.DataFrame({\"czas\": x, \"wypożyczenia\": act}, index = x)\n",
    "# week_station_activity.set_index('czas')\n",
    "week_station_activity[\"dni tygodnia\"] = week_station_activity[\"czas\"].dt.day_name()\n",
    "\n",
    "week_station_activity"
   ]
  },
  {
   "cell_type": "code",
   "execution_count": 84,
   "metadata": {},
   "outputs": [],
   "source": [
    "def week_activity(day):\n",
    "    filt = week_station_activity[\"dni tygodnia\"] == day\n",
    "    sunday_activity = week_station_activity[filt]\n",
    "    return sunday_activity[\"wypożyczenia\"].sum()\n",
    "    "
   ]
  },
  {
   "cell_type": "code",
   "execution_count": 86,
   "metadata": {},
   "outputs": [
    {
     "data": {
      "image/png": "[encoded data removed]",
      "text/plain": [
       "<Figure size 864x432 with 1 Axes>"
      ]
     },
     "metadata": {
      "needs_background": "light"
     },
     "output_type": "display_data"
    }
   ],
   "source": [
    "days = [\"Monday\", \"Tuesday\", \"Wednesday\", \"Thursday\", \"Friday\", \"Saturday\", \"Sunday\"]\n",
    "number_of_rentals = []\n",
    "for day in days:\n",
    "    number_of_rentals.append(week_activity(day))\n",
    "\n",
    "plt.figure(figsize=(12, 6))\n",
    "plt.bar(days, number_of_rentals)\n",
    "plt.title(\"Aktywność tygodniowa na stacji\")\n",
    "plt.show()"
   ]
  }
 ],
 "metadata": {
  "kernelspec": {
   "display_name": "Python 3",
   "language": "python",
   "name": "python3"
  },
  "language_info": {
   "codemirror_mode": {
    "name": "ipython",
    "version": 3
   },
   "file_extension": ".py",
   "mimetype": "text/x-python",
   "name": "python",
   "nbconvert_exporter": "python",
   "pygments_lexer": "ipython3",
   "version": "3.8.5"
  }
 },
 "nbformat": 4,
 "nbformat_minor": 4
}
